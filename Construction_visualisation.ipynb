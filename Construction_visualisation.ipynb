{
  "nbformat": 4,
  "nbformat_minor": 0,
  "metadata": {
    "colab": {
      "name": "Construction_visualisation.ipynb",
      "provenance": [],
      "authorship_tag": "ABX9TyOtBnYGhRPF4QDVp4C0Wu/u",
      "include_colab_link": true
    },
    "kernelspec": {
      "name": "python3",
      "display_name": "Python 3"
    },
    "language_info": {
      "name": "python"
    }
  },
  "cells": [
    {
      "cell_type": "markdown",
      "metadata": {
        "id": "view-in-github",
        "colab_type": "text"
      },
      "source": [
        "<a href=\"https://colab.research.google.com/github/aaaksenova/RussianConstructicon_NLP_tools/blob/change/Construction_visualisation.ipynb\" target=\"_parent\"><img src=\"https://colab.research.google.com/assets/colab-badge.svg\" alt=\"Open In Colab\"/></a>"
      ]
    },
    {
      "cell_type": "markdown",
      "metadata": {
        "id": "4NgbqD0vcgq2"
      },
      "source": [
        "# Визуализация статистики по конструкциям"
      ]
    },
    {
      "cell_type": "markdown",
      "metadata": {
        "id": "WkRHrP9yoVKz"
      },
      "source": [
        "Подсчет распределения конструкций по семантическим и синтаксическим типам. Самые частотные якоря по частям речи. \n",
        "\n",
        "by Аня Аксенова (akanna_a@mail.ru)"
      ]
    },
    {
      "cell_type": "code",
      "metadata": {
        "id": "z6Maov8em73I",
        "colab": {
          "base_uri": "https://localhost:8080/"
        },
        "outputId": "9f77a090-c772-4be2-8479-f6bc184dbd56"
      },
      "source": [
        "! pip install spacy --upgrade\n",
        "! python -m spacy download ru_core_news_md"
      ],
      "execution_count": 1,
      "outputs": [
        {
          "output_type": "stream",
          "name": "stdout",
          "text": [
            "Requirement already satisfied: spacy in /usr/local/lib/python3.7/dist-packages (2.2.4)\n",
            "Collecting spacy\n",
            "  Downloading spacy-3.2.0-cp37-cp37m-manylinux_2_17_x86_64.manylinux2014_x86_64.whl (6.0 MB)\n",
            "\u001b[K     |████████████████████████████████| 6.0 MB 35.1 MB/s \n",
            "\u001b[?25hRequirement already satisfied: tqdm<5.0.0,>=4.38.0 in /usr/local/lib/python3.7/dist-packages (from spacy) (4.62.3)\n",
            "Requirement already satisfied: typing-extensions<4.0.0.0,>=3.7.4 in /usr/local/lib/python3.7/dist-packages (from spacy) (3.10.0.2)\n",
            "Collecting srsly<3.0.0,>=2.4.1\n",
            "  Downloading srsly-2.4.2-cp37-cp37m-manylinux_2_17_x86_64.manylinux2014_x86_64.whl (451 kB)\n",
            "\u001b[K     |████████████████████████████████| 451 kB 39.1 MB/s \n",
            "\u001b[?25hRequirement already satisfied: murmurhash<1.1.0,>=0.28.0 in /usr/local/lib/python3.7/dist-packages (from spacy) (1.0.6)\n",
            "Collecting catalogue<2.1.0,>=2.0.6\n",
            "  Downloading catalogue-2.0.6-py3-none-any.whl (17 kB)\n",
            "Requirement already satisfied: requests<3.0.0,>=2.13.0 in /usr/local/lib/python3.7/dist-packages (from spacy) (2.23.0)\n",
            "Requirement already satisfied: packaging>=20.0 in /usr/local/lib/python3.7/dist-packages (from spacy) (21.2)\n",
            "Collecting langcodes<4.0.0,>=3.2.0\n",
            "  Downloading langcodes-3.3.0-py3-none-any.whl (181 kB)\n",
            "\u001b[K     |████████████████████████████████| 181 kB 55.0 MB/s \n",
            "\u001b[?25hRequirement already satisfied: jinja2 in /usr/local/lib/python3.7/dist-packages (from spacy) (2.11.3)\n",
            "Requirement already satisfied: setuptools in /usr/local/lib/python3.7/dist-packages (from spacy) (57.4.0)\n",
            "Collecting spacy-loggers<2.0.0,>=1.0.0\n",
            "  Downloading spacy_loggers-1.0.1-py3-none-any.whl (7.0 kB)\n",
            "Collecting pydantic!=1.8,!=1.8.1,<1.9.0,>=1.7.4\n",
            "  Downloading pydantic-1.8.2-cp37-cp37m-manylinux2014_x86_64.whl (10.1 MB)\n",
            "\u001b[K     |████████████████████████████████| 10.1 MB 45.9 MB/s \n",
            "\u001b[?25hCollecting thinc<8.1.0,>=8.0.12\n",
            "  Downloading thinc-8.0.13-cp37-cp37m-manylinux_2_17_x86_64.manylinux2014_x86_64.whl (628 kB)\n",
            "\u001b[K     |████████████████████████████████| 628 kB 39.8 MB/s \n",
            "\u001b[?25hCollecting typer<0.5.0,>=0.3.0\n",
            "  Downloading typer-0.4.0-py3-none-any.whl (27 kB)\n",
            "Requirement already satisfied: wasabi<1.1.0,>=0.8.1 in /usr/local/lib/python3.7/dist-packages (from spacy) (0.8.2)\n",
            "Collecting pathy>=0.3.5\n",
            "  Downloading pathy-0.6.1-py3-none-any.whl (42 kB)\n",
            "\u001b[K     |████████████████████████████████| 42 kB 1.4 MB/s \n",
            "\u001b[?25hRequirement already satisfied: cymem<2.1.0,>=2.0.2 in /usr/local/lib/python3.7/dist-packages (from spacy) (2.0.6)\n",
            "Requirement already satisfied: blis<0.8.0,>=0.4.0 in /usr/local/lib/python3.7/dist-packages (from spacy) (0.4.1)\n",
            "Collecting spacy-legacy<3.1.0,>=3.0.8\n",
            "  Downloading spacy_legacy-3.0.8-py2.py3-none-any.whl (14 kB)\n",
            "Requirement already satisfied: preshed<3.1.0,>=3.0.2 in /usr/local/lib/python3.7/dist-packages (from spacy) (3.0.6)\n",
            "Requirement already satisfied: numpy>=1.15.0 in /usr/local/lib/python3.7/dist-packages (from spacy) (1.19.5)\n",
            "Requirement already satisfied: zipp>=0.5 in /usr/local/lib/python3.7/dist-packages (from catalogue<2.1.0,>=2.0.6->spacy) (3.6.0)\n",
            "Requirement already satisfied: pyparsing<3,>=2.0.2 in /usr/local/lib/python3.7/dist-packages (from packaging>=20.0->spacy) (2.4.7)\n",
            "Requirement already satisfied: smart-open<6.0.0,>=5.0.0 in /usr/local/lib/python3.7/dist-packages (from pathy>=0.3.5->spacy) (5.2.1)\n",
            "Requirement already satisfied: chardet<4,>=3.0.2 in /usr/local/lib/python3.7/dist-packages (from requests<3.0.0,>=2.13.0->spacy) (3.0.4)\n",
            "Requirement already satisfied: urllib3!=1.25.0,!=1.25.1,<1.26,>=1.21.1 in /usr/local/lib/python3.7/dist-packages (from requests<3.0.0,>=2.13.0->spacy) (1.24.3)\n",
            "Requirement already satisfied: certifi>=2017.4.17 in /usr/local/lib/python3.7/dist-packages (from requests<3.0.0,>=2.13.0->spacy) (2021.10.8)\n",
            "Requirement already satisfied: idna<3,>=2.5 in /usr/local/lib/python3.7/dist-packages (from requests<3.0.0,>=2.13.0->spacy) (2.10)\n",
            "Requirement already satisfied: click<9.0.0,>=7.1.1 in /usr/local/lib/python3.7/dist-packages (from typer<0.5.0,>=0.3.0->spacy) (7.1.2)\n",
            "Requirement already satisfied: MarkupSafe>=0.23 in /usr/local/lib/python3.7/dist-packages (from jinja2->spacy) (2.0.1)\n",
            "Installing collected packages: catalogue, typer, srsly, pydantic, thinc, spacy-loggers, spacy-legacy, pathy, langcodes, spacy\n",
            "  Attempting uninstall: catalogue\n",
            "    Found existing installation: catalogue 1.0.0\n",
            "    Uninstalling catalogue-1.0.0:\n",
            "      Successfully uninstalled catalogue-1.0.0\n",
            "  Attempting uninstall: srsly\n",
            "    Found existing installation: srsly 1.0.5\n",
            "    Uninstalling srsly-1.0.5:\n",
            "      Successfully uninstalled srsly-1.0.5\n",
            "  Attempting uninstall: thinc\n",
            "    Found existing installation: thinc 7.4.0\n",
            "    Uninstalling thinc-7.4.0:\n",
            "      Successfully uninstalled thinc-7.4.0\n",
            "  Attempting uninstall: spacy\n",
            "    Found existing installation: spacy 2.2.4\n",
            "    Uninstalling spacy-2.2.4:\n",
            "      Successfully uninstalled spacy-2.2.4\n",
            "Successfully installed catalogue-2.0.6 langcodes-3.3.0 pathy-0.6.1 pydantic-1.8.2 spacy-3.2.0 spacy-legacy-3.0.8 spacy-loggers-1.0.1 srsly-2.4.2 thinc-8.0.13 typer-0.4.0\n",
            "Collecting ru-core-news-md==3.2.0\n",
            "  Downloading https://github.com/explosion/spacy-models/releases/download/ru_core_news_md-3.2.0/ru_core_news_md-3.2.0-py3-none-any.whl (43.0 MB)\n",
            "\u001b[K     |████████████████████████████████| 43.0 MB 9.7 kB/s \n",
            "\u001b[?25hRequirement already satisfied: spacy<3.3.0,>=3.2.0 in /usr/local/lib/python3.7/dist-packages (from ru-core-news-md==3.2.0) (3.2.0)\n",
            "Collecting pymorphy2>=0.9\n",
            "  Downloading pymorphy2-0.9.1-py3-none-any.whl (55 kB)\n",
            "\u001b[K     |████████████████████████████████| 55 kB 2.9 MB/s \n",
            "\u001b[?25hCollecting dawg-python>=0.7.1\n",
            "  Downloading DAWG_Python-0.7.2-py2.py3-none-any.whl (11 kB)\n",
            "Collecting pymorphy2-dicts-ru<3.0,>=2.4\n",
            "  Downloading pymorphy2_dicts_ru-2.4.417127.4579844-py2.py3-none-any.whl (8.2 MB)\n",
            "\u001b[K     |████████████████████████████████| 8.2 MB 53.1 MB/s \n",
            "\u001b[?25hRequirement already satisfied: docopt>=0.6 in /usr/local/lib/python3.7/dist-packages (from pymorphy2>=0.9->ru-core-news-md==3.2.0) (0.6.2)\n",
            "Requirement already satisfied: murmurhash<1.1.0,>=0.28.0 in /usr/local/lib/python3.7/dist-packages (from spacy<3.3.0,>=3.2.0->ru-core-news-md==3.2.0) (1.0.6)\n",
            "Requirement already satisfied: catalogue<2.1.0,>=2.0.6 in /usr/local/lib/python3.7/dist-packages (from spacy<3.3.0,>=3.2.0->ru-core-news-md==3.2.0) (2.0.6)\n",
            "Requirement already satisfied: srsly<3.0.0,>=2.4.1 in /usr/local/lib/python3.7/dist-packages (from spacy<3.3.0,>=3.2.0->ru-core-news-md==3.2.0) (2.4.2)\n",
            "Requirement already satisfied: requests<3.0.0,>=2.13.0 in /usr/local/lib/python3.7/dist-packages (from spacy<3.3.0,>=3.2.0->ru-core-news-md==3.2.0) (2.23.0)\n",
            "Requirement already satisfied: typing-extensions<4.0.0.0,>=3.7.4 in /usr/local/lib/python3.7/dist-packages (from spacy<3.3.0,>=3.2.0->ru-core-news-md==3.2.0) (3.10.0.2)\n",
            "Requirement already satisfied: pathy>=0.3.5 in /usr/local/lib/python3.7/dist-packages (from spacy<3.3.0,>=3.2.0->ru-core-news-md==3.2.0) (0.6.1)\n",
            "Requirement already satisfied: blis<0.8.0,>=0.4.0 in /usr/local/lib/python3.7/dist-packages (from spacy<3.3.0,>=3.2.0->ru-core-news-md==3.2.0) (0.4.1)\n",
            "Requirement already satisfied: packaging>=20.0 in /usr/local/lib/python3.7/dist-packages (from spacy<3.3.0,>=3.2.0->ru-core-news-md==3.2.0) (21.2)\n",
            "Requirement already satisfied: wasabi<1.1.0,>=0.8.1 in /usr/local/lib/python3.7/dist-packages (from spacy<3.3.0,>=3.2.0->ru-core-news-md==3.2.0) (0.8.2)\n",
            "Requirement already satisfied: numpy>=1.15.0 in /usr/local/lib/python3.7/dist-packages (from spacy<3.3.0,>=3.2.0->ru-core-news-md==3.2.0) (1.19.5)\n",
            "Requirement already satisfied: cymem<2.1.0,>=2.0.2 in /usr/local/lib/python3.7/dist-packages (from spacy<3.3.0,>=3.2.0->ru-core-news-md==3.2.0) (2.0.6)\n",
            "Requirement already satisfied: typer<0.5.0,>=0.3.0 in /usr/local/lib/python3.7/dist-packages (from spacy<3.3.0,>=3.2.0->ru-core-news-md==3.2.0) (0.4.0)\n",
            "Requirement already satisfied: tqdm<5.0.0,>=4.38.0 in /usr/local/lib/python3.7/dist-packages (from spacy<3.3.0,>=3.2.0->ru-core-news-md==3.2.0) (4.62.3)\n",
            "Requirement already satisfied: thinc<8.1.0,>=8.0.12 in /usr/local/lib/python3.7/dist-packages (from spacy<3.3.0,>=3.2.0->ru-core-news-md==3.2.0) (8.0.13)\n",
            "Requirement already satisfied: setuptools in /usr/local/lib/python3.7/dist-packages (from spacy<3.3.0,>=3.2.0->ru-core-news-md==3.2.0) (57.4.0)\n",
            "Requirement already satisfied: jinja2 in /usr/local/lib/python3.7/dist-packages (from spacy<3.3.0,>=3.2.0->ru-core-news-md==3.2.0) (2.11.3)\n",
            "Requirement already satisfied: pydantic!=1.8,!=1.8.1,<1.9.0,>=1.7.4 in /usr/local/lib/python3.7/dist-packages (from spacy<3.3.0,>=3.2.0->ru-core-news-md==3.2.0) (1.8.2)\n",
            "Requirement already satisfied: spacy-loggers<2.0.0,>=1.0.0 in /usr/local/lib/python3.7/dist-packages (from spacy<3.3.0,>=3.2.0->ru-core-news-md==3.2.0) (1.0.1)\n",
            "Requirement already satisfied: preshed<3.1.0,>=3.0.2 in /usr/local/lib/python3.7/dist-packages (from spacy<3.3.0,>=3.2.0->ru-core-news-md==3.2.0) (3.0.6)\n",
            "Requirement already satisfied: langcodes<4.0.0,>=3.2.0 in /usr/local/lib/python3.7/dist-packages (from spacy<3.3.0,>=3.2.0->ru-core-news-md==3.2.0) (3.3.0)\n",
            "Requirement already satisfied: spacy-legacy<3.1.0,>=3.0.8 in /usr/local/lib/python3.7/dist-packages (from spacy<3.3.0,>=3.2.0->ru-core-news-md==3.2.0) (3.0.8)\n",
            "Requirement already satisfied: zipp>=0.5 in /usr/local/lib/python3.7/dist-packages (from catalogue<2.1.0,>=2.0.6->spacy<3.3.0,>=3.2.0->ru-core-news-md==3.2.0) (3.6.0)\n",
            "Requirement already satisfied: pyparsing<3,>=2.0.2 in /usr/local/lib/python3.7/dist-packages (from packaging>=20.0->spacy<3.3.0,>=3.2.0->ru-core-news-md==3.2.0) (2.4.7)\n",
            "Requirement already satisfied: smart-open<6.0.0,>=5.0.0 in /usr/local/lib/python3.7/dist-packages (from pathy>=0.3.5->spacy<3.3.0,>=3.2.0->ru-core-news-md==3.2.0) (5.2.1)\n",
            "Requirement already satisfied: certifi>=2017.4.17 in /usr/local/lib/python3.7/dist-packages (from requests<3.0.0,>=2.13.0->spacy<3.3.0,>=3.2.0->ru-core-news-md==3.2.0) (2021.10.8)\n",
            "Requirement already satisfied: chardet<4,>=3.0.2 in /usr/local/lib/python3.7/dist-packages (from requests<3.0.0,>=2.13.0->spacy<3.3.0,>=3.2.0->ru-core-news-md==3.2.0) (3.0.4)\n",
            "Requirement already satisfied: urllib3!=1.25.0,!=1.25.1,<1.26,>=1.21.1 in /usr/local/lib/python3.7/dist-packages (from requests<3.0.0,>=2.13.0->spacy<3.3.0,>=3.2.0->ru-core-news-md==3.2.0) (1.24.3)\n",
            "Requirement already satisfied: idna<3,>=2.5 in /usr/local/lib/python3.7/dist-packages (from requests<3.0.0,>=2.13.0->spacy<3.3.0,>=3.2.0->ru-core-news-md==3.2.0) (2.10)\n",
            "Requirement already satisfied: click<9.0.0,>=7.1.1 in /usr/local/lib/python3.7/dist-packages (from typer<0.5.0,>=0.3.0->spacy<3.3.0,>=3.2.0->ru-core-news-md==3.2.0) (7.1.2)\n",
            "Requirement already satisfied: MarkupSafe>=0.23 in /usr/local/lib/python3.7/dist-packages (from jinja2->spacy<3.3.0,>=3.2.0->ru-core-news-md==3.2.0) (2.0.1)\n",
            "Installing collected packages: pymorphy2-dicts-ru, dawg-python, pymorphy2, ru-core-news-md\n",
            "Successfully installed dawg-python-0.7.2 pymorphy2-0.9.1 pymorphy2-dicts-ru-2.4.417127.4579844 ru-core-news-md-3.2.0\n",
            "\u001b[38;5;2m✔ Download and installation successful\u001b[0m\n",
            "You can now load the package via spacy.load('ru_core_news_md')\n"
          ]
        }
      ]
    },
    {
      "cell_type": "code",
      "metadata": {
        "id": "KTDkBmKVccaX"
      },
      "source": [
        "from google.colab import auth\n",
        "import pandas as pd\n",
        "auth.authenticate_user()\n",
        "import gspread\n",
        "import spacy\n",
        "from oauth2client.client import GoogleCredentials\n",
        "gc = gspread.authorize(GoogleCredentials.get_application_default())\n",
        "import re\n",
        "from collections import Counter"
      ],
      "execution_count": 2,
      "outputs": []
    },
    {
      "cell_type": "code",
      "metadata": {
        "id": "b2ZF6op2dBQv"
      },
      "source": [
        "wb = gc.open_by_url('https://docs.google.com/spreadsheets/d/1W0sFyCG0TWWosuA-ly2mkXV-1pLBPgAlQtACy6qQOEw/edit#gid=656624377')"
      ],
      "execution_count": 10,
      "outputs": []
    },
    {
      "cell_type": "code",
      "metadata": {
        "id": "4BiRVEhXdEwr"
      },
      "source": [
        "sheet = wb.worksheet('Database for Radovan')"
      ],
      "execution_count": 11,
      "outputs": []
    },
    {
      "cell_type": "code",
      "metadata": {
        "id": "juQgBh5tdLaQ"
      },
      "source": [
        "df = pd.DataFrame(sheet.get_all_values())\n",
        "df.columns = df.iloc[0]\n",
        "df = df.iloc[1:]"
      ],
      "execution_count": 12,
      "outputs": []
    },
    {
      "cell_type": "code",
      "metadata": {
        "colab": {
          "base_uri": "https://localhost:8080/",
          "height": 712
        },
        "id": "FWKGk_lTgS8Z",
        "outputId": "f86cf1d9-49b7-42ea-e432-05692ac3ecf3"
      },
      "source": [
        "df.head()"
      ],
      "execution_count": 13,
      "outputs": [
        {
          "output_type": "execute_result",
          "data": {
            "text/html": [
              "<div>\n",
              "<style scoped>\n",
              "    .dataframe tbody tr th:only-of-type {\n",
              "        vertical-align: middle;\n",
              "    }\n",
              "\n",
              "    .dataframe tbody tr th {\n",
              "        vertical-align: top;\n",
              "    }\n",
              "\n",
              "    .dataframe thead th {\n",
              "        text-align: right;\n",
              "    }\n",
              "</style>\n",
              "<table border=\"1\" class=\"dataframe\">\n",
              "  <thead>\n",
              "    <tr style=\"text-align: right;\">\n",
              "      <th></th>\n",
              "      <th>References</th>\n",
              "      <th>Family</th>\n",
              "      <th>Status</th>\n",
              "      <th>ID Number</th>\n",
              "      <th>Name</th>\n",
              "      <th>Name UD</th>\n",
              "      <th>Illustration</th>\n",
              "      <th>Gloss</th>\n",
              "      <th>English equivalent</th>\n",
              "      <th>Norwegian Equivalent</th>\n",
              "      <th>CEFR level</th>\n",
              "      <th>Definition in Russian</th>\n",
              "      <th>Definition in English</th>\n",
              "      <th>Definition in Norwegian</th>\n",
              "      <th>Example 1</th>\n",
              "      <th>Example 2</th>\n",
              "      <th>Example 3</th>\n",
              "      <th>Example 4</th>\n",
              "      <th>Example 5</th>\n",
              "      <th>Morphology</th>\n",
              "      <th>Synt. type of construction</th>\n",
              "      <th>Synt. func. of anchor</th>\n",
              "      <th>Synt. structure of anchor</th>\n",
              "      <th>Part of speech of anchor</th>\n",
              "      <th>SemType1</th>\n",
              "      <th>SemSubType1</th>\n",
              "      <th>SemType2</th>\n",
              "      <th>SemSubType2</th>\n",
              "      <th>SemType3</th>\n",
              "      <th>SemSubType3</th>\n",
              "      <th>SemType4</th>\n",
              "      <th>SemSubType4</th>\n",
              "      <th>Semantic role</th>\n",
              "      <th>Communicative type</th>\n",
              "      <th>Usage label</th>\n",
              "      <th>Anchor words</th>\n",
              "      <th>Common fillers</th>\n",
              "      <th>Comment</th>\n",
              "      <th>Dependency Structure</th>\n",
              "      <th>Dependency Structure of Illustration</th>\n",
              "      <th>...</th>\n",
              "      <th>Condition</th>\n",
              "      <th>Concession</th>\n",
              "      <th>Consequence</th>\n",
              "      <th>Degree of accuracy</th>\n",
              "      <th>Degree of intensity</th>\n",
              "      <th>Discourse structure</th>\n",
              "      <th>Epistemic modality (Degree of certainty)</th>\n",
              "      <th>Exceptive</th>\n",
              "      <th>Exclusive</th>\n",
              "      <th>Inclusive</th>\n",
              "      <th>Instrument</th>\n",
              "      <th>Manner</th>\n",
              "      <th>Measure</th>\n",
              "      <th>Mirative</th>\n",
              "      <th>Non-existence</th>\n",
              "      <th>Non-Standard Subject</th>\n",
              "      <th>Options</th>\n",
              "      <th>Phase of action</th>\n",
              "      <th>Pluractionality</th>\n",
              "      <th>Polarity value</th>\n",
              "      <th>Possession</th>\n",
              "      <th>Prohibition</th>\n",
              "      <th>Purpose</th>\n",
              "      <th>Quantification</th>\n",
              "      <th>Reaction to the previous discourse</th>\n",
              "      <th>Request</th>\n",
              "      <th>Result</th>\n",
              "      <th>Root modality</th>\n",
              "      <th>Routine</th>\n",
              "      <th>Salient property</th>\n",
              "      <th>Source of information</th>\n",
              "      <th>Source of opinion</th>\n",
              "      <th>Spatial expression</th>\n",
              "      <th>Subset</th>\n",
              "      <th>Taxis</th>\n",
              "      <th>Temporal expression</th>\n",
              "      <th>Temporary characteristics</th>\n",
              "      <th>Timeline</th>\n",
              "      <th>Threat</th>\n",
              "      <th>Volition</th>\n",
              "    </tr>\n",
              "  </thead>\n",
              "  <tbody>\n",
              "    <tr>\n",
              "      <th>1</th>\n",
              "      <td>No references</td>\n",
              "      <td></td>\n",
              "      <td>ЕВ</td>\n",
              "      <td>3</td>\n",
              "      <td>(а) как же NP-Nom?</td>\n",
              "      <td>(а) как же NP-Nom?</td>\n",
              "      <td>А как же мама?</td>\n",
              "      <td></td>\n",
              "      <td></td>\n",
              "      <td></td>\n",
              "      <td>A1</td>\n",
              "      <td>Конструкция используется для того, чтобы напом...</td>\n",
              "      <td>This construction is used to remind the addres...</td>\n",
              "      <td>Konstruksjonen anvendes for å minne adressaten...</td>\n",
              "      <td>Иван поднял голову и спросил: ― А как же [я]Th...</td>\n",
              "      <td>― Всё, ― объявил водитель, ― дальше не поеду. ...</td>\n",
              "      <td>В нашем городе ему предложили хорошую работу, ...</td>\n",
              "      <td>Но как только разговор заходит о семейном обуч...</td>\n",
              "      <td>В деревне делали более лёгкую пиццу: тесто пол...</td>\n",
              "      <td>NP, Nom</td>\n",
              "      <td>Clause</td>\n",
              "      <td>Praedicative Expression</td>\n",
              "      <td>Not Applicable</td>\n",
              "      <td>Conjunction, Pronoun, Particle</td>\n",
              "      <td>Reaction to the previous discourse</td>\n",
              "      <td>Surprise</td>\n",
              "      <td>Mirative</td>\n",
              "      <td></td>\n",
              "      <td></td>\n",
              "      <td></td>\n",
              "      <td></td>\n",
              "      <td></td>\n",
              "      <td>Theme</td>\n",
              "      <td>Interrogative</td>\n",
              "      <td>NA</td>\n",
              "      <td>а, как, же</td>\n",
              "      <td></td>\n",
              "      <td>Не путать с конструкцией 682. См. другие конст...</td>\n",
              "      <td>[root как [advmod же] [nsubj NP-Nom]]+[root [c...</td>\n",
              "      <td>[root [cc А] как [advmod же] [nsubj мама]?]</td>\n",
              "      <td>...</td>\n",
              "      <td></td>\n",
              "      <td></td>\n",
              "      <td></td>\n",
              "      <td></td>\n",
              "      <td></td>\n",
              "      <td></td>\n",
              "      <td></td>\n",
              "      <td></td>\n",
              "      <td></td>\n",
              "      <td></td>\n",
              "      <td></td>\n",
              "      <td></td>\n",
              "      <td></td>\n",
              "      <td>Unspecified</td>\n",
              "      <td></td>\n",
              "      <td></td>\n",
              "      <td></td>\n",
              "      <td></td>\n",
              "      <td></td>\n",
              "      <td></td>\n",
              "      <td></td>\n",
              "      <td></td>\n",
              "      <td></td>\n",
              "      <td></td>\n",
              "      <td>Surprise</td>\n",
              "      <td></td>\n",
              "      <td></td>\n",
              "      <td></td>\n",
              "      <td></td>\n",
              "      <td></td>\n",
              "      <td></td>\n",
              "      <td></td>\n",
              "      <td></td>\n",
              "      <td></td>\n",
              "      <td></td>\n",
              "      <td></td>\n",
              "      <td></td>\n",
              "      <td></td>\n",
              "      <td></td>\n",
              "      <td></td>\n",
              "    </tr>\n",
              "    <tr>\n",
              "      <th>2</th>\n",
              "      <td>No references</td>\n",
              "      <td></td>\n",
              "      <td>ЕВ</td>\n",
              "      <td>4</td>\n",
              "      <td>(а) при чём здесь/тут Cop NP-Nom?</td>\n",
              "      <td>(а) при чём здесь/тут Cop NP-Nom?</td>\n",
              "      <td>При чём здесь наши отношения?</td>\n",
              "      <td></td>\n",
              "      <td></td>\n",
              "      <td></td>\n",
              "      <td>A2</td>\n",
              "      <td>Конструкция используется для выражения недоуме...</td>\n",
              "      <td>This construction is used to express the speak...</td>\n",
              "      <td>Konstruksjonen anvendes for å uttrykke at tale...</td>\n",
              "      <td>Но при чём здесь [недостатки]Theme, когда речь...</td>\n",
              "      <td>― А при чём тут [я]Theme, ― удивилась Ирина.</td>\n",
              "      <td>Я спросил его, при чём здесь [приезжие гости]T...</td>\n",
              "      <td>― Кредит, ― сказал он грозно, ― портит отношен...</td>\n",
              "      <td>А у нас даже третьей комнаты нет… Мама не поня...</td>\n",
              "      <td>Cop, NP, Nom</td>\n",
              "      <td>Copula Construction</td>\n",
              "      <td>Praedicative Expression</td>\n",
              "      <td>Prepositional Phrase</td>\n",
              "      <td>Conjunction, Preposition, Pronoun, Adverb</td>\n",
              "      <td>Reaction to the previous discourse</td>\n",
              "      <td>Surprise</td>\n",
              "      <td></td>\n",
              "      <td></td>\n",
              "      <td></td>\n",
              "      <td></td>\n",
              "      <td></td>\n",
              "      <td></td>\n",
              "      <td>Theme</td>\n",
              "      <td>Interrogative / Exclamatory</td>\n",
              "      <td>NA</td>\n",
              "      <td>а, при, чём, здесь, тут</td>\n",
              "      <td>я, он</td>\n",
              "      <td>No comment yet</td>\n",
              "      <td>[root [case при] чём [advmod здесь] [cop Cop] ...</td>\n",
              "      <td>[root [case При] чём [advmod здесь] [det наши]...</td>\n",
              "      <td>...</td>\n",
              "      <td></td>\n",
              "      <td></td>\n",
              "      <td></td>\n",
              "      <td></td>\n",
              "      <td></td>\n",
              "      <td></td>\n",
              "      <td></td>\n",
              "      <td></td>\n",
              "      <td></td>\n",
              "      <td></td>\n",
              "      <td></td>\n",
              "      <td></td>\n",
              "      <td></td>\n",
              "      <td></td>\n",
              "      <td></td>\n",
              "      <td></td>\n",
              "      <td></td>\n",
              "      <td></td>\n",
              "      <td></td>\n",
              "      <td></td>\n",
              "      <td></td>\n",
              "      <td></td>\n",
              "      <td></td>\n",
              "      <td></td>\n",
              "      <td>Surprise</td>\n",
              "      <td></td>\n",
              "      <td></td>\n",
              "      <td></td>\n",
              "      <td></td>\n",
              "      <td></td>\n",
              "      <td></td>\n",
              "      <td></td>\n",
              "      <td></td>\n",
              "      <td></td>\n",
              "      <td></td>\n",
              "      <td></td>\n",
              "      <td></td>\n",
              "      <td></td>\n",
              "      <td></td>\n",
              "      <td></td>\n",
              "    </tr>\n",
              "    <tr>\n",
              "      <th>3</th>\n",
              "      <td>No references</td>\n",
              "      <td></td>\n",
              "      <td>ЕВ</td>\n",
              "      <td>5</td>\n",
              "      <td>(а) Noun-Nom/кто (же) (PronPers-3.Acc) знает, Cl</td>\n",
              "      <td>(а) N-Nom/кто (же) (PronPers-3.Acc) знает, Cl</td>\n",
              "      <td>Кто его знает, почему она так поступила.</td>\n",
              "      <td></td>\n",
              "      <td></td>\n",
              "      <td></td>\n",
              "      <td>C1</td>\n",
              "      <td>Конструкция обозначает, что по мнению говоряще...</td>\n",
              "      <td>This construction indicates that, in the speak...</td>\n",
              "      <td>Konstruksjonen anvendes for å uttrykke at tale...</td>\n",
              "      <td>[Чёрт]Cognizer [его]Topic знает, [что она вчер...</td>\n",
              "      <td>[Бог]Cognizer [его]Topic знает, [где они сейча...</td>\n",
              "      <td>― [Шут]Cognizer [его]Topic знает, [как оно пол...</td>\n",
              "      <td>[Чёрт]Cognizer [ее]Topic знает, [что у нее там...</td>\n",
              "      <td>[Бог]Cognizer [их]Topic знает, [зачем они прие...</td>\n",
              "      <td>Noun, Nom, Cl</td>\n",
              "      <td>Matrix and Sentential Complement Construction</td>\n",
              "      <td>Matrix Predicate</td>\n",
              "      <td>Subject and Predicate</td>\n",
              "      <td>Conjunction, Pronoun, Particle, Verb</td>\n",
              "      <td>Epistemic modality</td>\n",
              "      <td>Low degree of certainty</td>\n",
              "      <td></td>\n",
              "      <td></td>\n",
              "      <td></td>\n",
              "      <td></td>\n",
              "      <td></td>\n",
              "      <td></td>\n",
              "      <td>Content, Cognizer, Topic</td>\n",
              "      <td>Declarative</td>\n",
              "      <td>Colloquial</td>\n",
              "      <td>а, кто, же, его, её, их, знает</td>\n",
              "      <td>бог, чёрт, шут, пёс, бес, господь, леший, дьявол</td>\n",
              "      <td>Не путать с другими конструкциями, которые сод...</td>\n",
              "      <td>[root [nsubj Noun-Nom] [obj PronPers-3.Acc] зн...</td>\n",
              "      <td>[root [nsubj Кто] [obj его] знает, [advmod поч...</td>\n",
              "      <td>...</td>\n",
              "      <td></td>\n",
              "      <td></td>\n",
              "      <td></td>\n",
              "      <td></td>\n",
              "      <td></td>\n",
              "      <td></td>\n",
              "      <td>Low degree of certainty</td>\n",
              "      <td></td>\n",
              "      <td></td>\n",
              "      <td></td>\n",
              "      <td></td>\n",
              "      <td></td>\n",
              "      <td></td>\n",
              "      <td></td>\n",
              "      <td></td>\n",
              "      <td></td>\n",
              "      <td></td>\n",
              "      <td></td>\n",
              "      <td></td>\n",
              "      <td></td>\n",
              "      <td></td>\n",
              "      <td></td>\n",
              "      <td></td>\n",
              "      <td></td>\n",
              "      <td></td>\n",
              "      <td></td>\n",
              "      <td></td>\n",
              "      <td></td>\n",
              "      <td></td>\n",
              "      <td></td>\n",
              "      <td></td>\n",
              "      <td></td>\n",
              "      <td></td>\n",
              "      <td></td>\n",
              "      <td></td>\n",
              "      <td></td>\n",
              "      <td></td>\n",
              "      <td></td>\n",
              "      <td></td>\n",
              "      <td></td>\n",
              "    </tr>\n",
              "    <tr>\n",
              "      <th>4</th>\n",
              "      <td>No references</td>\n",
              "      <td></td>\n",
              "      <td>EV3</td>\n",
              "      <td>6</td>\n",
              "      <td>(а/так) что насчёт XP?</td>\n",
              "      <td>(а/так) что насчёт XP?</td>\n",
              "      <td>Что насчёт пятницы? Какие у тебя планы?</td>\n",
              "      <td></td>\n",
              "      <td></td>\n",
              "      <td></td>\n",
              "      <td>B1</td>\n",
              "      <td>Конструкция обозначает, что говорящий интересу...</td>\n",
              "      <td>This construction indicates that the speaker i...</td>\n",
              "      <td>Konstruksjonen betyr at taleren forhører seg o...</td>\n",
              "      <td>А что насчёт [завтра]Theme, мы поедем на дачу?</td>\n",
              "      <td>Так что насчёт [нашего контракта]Theme?</td>\n",
              "      <td>Что насчёт [фильма]Theme? Какой будем сегодня ...</td>\n",
              "      <td>― Так что насчёт [моей просьбы]Theme? ― Еще р...</td>\n",
              "      <td>Вы ранее говорили, что скучаете по своему делу...</td>\n",
              "      <td>XP, Adv, NP, VP</td>\n",
              "      <td>Clause</td>\n",
              "      <td>Modifier</td>\n",
              "      <td>Not Applicable</td>\n",
              "      <td>Particle, Pronoun, Preposition</td>\n",
              "      <td>Discourse structure</td>\n",
              "      <td>Topic</td>\n",
              "      <td></td>\n",
              "      <td></td>\n",
              "      <td></td>\n",
              "      <td></td>\n",
              "      <td></td>\n",
              "      <td></td>\n",
              "      <td>Theme</td>\n",
              "      <td>Interrogative</td>\n",
              "      <td>NA</td>\n",
              "      <td>а, так, что, насчёт</td>\n",
              "      <td>завтра, сегодня, кино</td>\n",
              "      <td>См. не путать с конструкциями 147 как насчёт X...</td>\n",
              "      <td>[root [nsubj что] [case насчёт] XP?]+\\n[root [...</td>\n",
              "      <td>[root [nsubj Что] [case насчёт] пятницы?] [roo...</td>\n",
              "      <td>...</td>\n",
              "      <td></td>\n",
              "      <td></td>\n",
              "      <td></td>\n",
              "      <td></td>\n",
              "      <td></td>\n",
              "      <td>Topic</td>\n",
              "      <td></td>\n",
              "      <td></td>\n",
              "      <td></td>\n",
              "      <td></td>\n",
              "      <td></td>\n",
              "      <td></td>\n",
              "      <td></td>\n",
              "      <td></td>\n",
              "      <td></td>\n",
              "      <td></td>\n",
              "      <td></td>\n",
              "      <td></td>\n",
              "      <td></td>\n",
              "      <td></td>\n",
              "      <td></td>\n",
              "      <td></td>\n",
              "      <td></td>\n",
              "      <td></td>\n",
              "      <td></td>\n",
              "      <td></td>\n",
              "      <td></td>\n",
              "      <td></td>\n",
              "      <td></td>\n",
              "      <td></td>\n",
              "      <td></td>\n",
              "      <td></td>\n",
              "      <td></td>\n",
              "      <td></td>\n",
              "      <td></td>\n",
              "      <td></td>\n",
              "      <td></td>\n",
              "      <td></td>\n",
              "      <td></td>\n",
              "      <td></td>\n",
              "    </tr>\n",
              "    <tr>\n",
              "      <th>5</th>\n",
              "      <td>No references</td>\n",
              "      <td></td>\n",
              "      <td>ЕВ1</td>\n",
              "      <td>7</td>\n",
              "      <td>NP-Nom Cop похожий-Short на NP-Acc (NP-Ins/по ...</td>\n",
              "      <td>NP-Nom Cop похожий-Short на NP-Acc (NP-Ins/по ...</td>\n",
              "      <td>Вася похож на папу.</td>\n",
              "      <td></td>\n",
              "      <td></td>\n",
              "      <td></td>\n",
              "      <td>A1</td>\n",
              "      <td>Конструкция выражает сравнение и обозначает сх...</td>\n",
              "      <td>This construction expresses a comparison and d...</td>\n",
              "      <td>Konstruksjonen uttrykker sammenlikning og bete...</td>\n",
              "      <td>Внешне [эти растения]Theme мало похожи на [как...</td>\n",
              "      <td>[Девочка]Participant была похожа на [кореянку]...</td>\n",
              "      <td>И вдруг она появляется в нашем дворе и спрашив...</td>\n",
              "      <td>[Ее комната без окна]Theme была похожа по [раз...</td>\n",
              "      <td>[Мальчик]Participant так был похож на [Игоря]S...</td>\n",
              "      <td>NP, Nom, Cop, Short, Acc, Ins, Dat</td>\n",
              "      <td>Copula Construction</td>\n",
              "      <td>Praedicative Expression</td>\n",
              "      <td>Nominal Pattern</td>\n",
              "      <td>Adjective, Preposition</td>\n",
              "      <td>Comparison</td>\n",
              "      <td>Similarity</td>\n",
              "      <td></td>\n",
              "      <td></td>\n",
              "      <td></td>\n",
              "      <td></td>\n",
              "      <td></td>\n",
              "      <td></td>\n",
              "      <td>Property, Theme, Standard, Situation, Participant</td>\n",
              "      <td>Not applicable</td>\n",
              "      <td>NA</td>\n",
              "      <td>похожий, похож, похожа, похоже, похожи, на, по</td>\n",
              "      <td></td>\n",
              "      <td>См. похожие конструкции 13, 1180, 1181.</td>\n",
              "      <td>[root [nsubj NP-Nom] [cop Cop] похож [obl[case...</td>\n",
              "      <td>[root [nsubj Вася] похож [obl[case на] папу].]</td>\n",
              "      <td>...</td>\n",
              "      <td></td>\n",
              "      <td></td>\n",
              "      <td></td>\n",
              "      <td></td>\n",
              "      <td></td>\n",
              "      <td></td>\n",
              "      <td></td>\n",
              "      <td></td>\n",
              "      <td></td>\n",
              "      <td></td>\n",
              "      <td></td>\n",
              "      <td></td>\n",
              "      <td></td>\n",
              "      <td></td>\n",
              "      <td></td>\n",
              "      <td></td>\n",
              "      <td></td>\n",
              "      <td></td>\n",
              "      <td></td>\n",
              "      <td></td>\n",
              "      <td></td>\n",
              "      <td></td>\n",
              "      <td></td>\n",
              "      <td></td>\n",
              "      <td></td>\n",
              "      <td></td>\n",
              "      <td></td>\n",
              "      <td></td>\n",
              "      <td></td>\n",
              "      <td></td>\n",
              "      <td></td>\n",
              "      <td></td>\n",
              "      <td></td>\n",
              "      <td></td>\n",
              "      <td></td>\n",
              "      <td></td>\n",
              "      <td></td>\n",
              "      <td></td>\n",
              "      <td></td>\n",
              "      <td></td>\n",
              "    </tr>\n",
              "  </tbody>\n",
              "</table>\n",
              "<p>5 rows × 93 columns</p>\n",
              "</div>"
            ],
            "text/plain": [
              "0     References Family Status  ... Timeline Threat Volition\n",
              "1  No references            ЕВ  ...                         \n",
              "2  No references            ЕВ  ...                         \n",
              "3  No references            ЕВ  ...                         \n",
              "4  No references           EV3  ...                         \n",
              "5  No references           ЕВ1  ...                         \n",
              "\n",
              "[5 rows x 93 columns]"
            ]
          },
          "metadata": {},
          "execution_count": 13
        }
      ]
    },
    {
      "cell_type": "code",
      "metadata": {
        "id": "DR697VNxaI8N"
      },
      "source": [
        "start = df.columns.get_loc('Actionality')\n",
        "stop = df.columns.get_loc('Volition')"
      ],
      "execution_count": 22,
      "outputs": []
    },
    {
      "cell_type": "markdown",
      "metadata": {
        "id": "N0KGSQhOnZeu"
      },
      "source": [
        "## Распределение конструкций по семантическим типам"
      ]
    },
    {
      "cell_type": "code",
      "metadata": {
        "id": "qvb_imZOrLx4"
      },
      "source": [
        "from collections import Counter\n",
        "import matplotlib.pyplot as plt"
      ],
      "execution_count": 73,
      "outputs": []
    },
    {
      "cell_type": "code",
      "metadata": {
        "id": "UVxjiFK1tscA"
      },
      "source": [
        "df.replace({'': None}, inplace=True)"
      ],
      "execution_count": 84,
      "outputs": []
    },
    {
      "cell_type": "code",
      "metadata": {
        "colab": {
          "base_uri": "https://localhost:8080/",
          "height": 1000
        },
        "id": "ZjSwUv1gd4Mq",
        "outputId": "6e92c26f-dcdb-4ce4-c224-0d1b611dee2e"
      },
      "source": [
        "df.iloc[:, range(start, stop + 1)].notnull().sum().sort_values(ascending=False).plot(kind='barh', figsize=(20, 30))"
      ],
      "execution_count": 104,
      "outputs": [
        {
          "output_type": "execute_result",
          "data": {
            "text/plain": [
              "<matplotlib.axes._subplots.AxesSubplot at 0x7fa3263c91d0>"
            ]
          },
          "metadata": {},
          "execution_count": 104
        },
        {
          "output_type": "display_data",
          "data": {
            "image/png": "[encoded data removed]",
            "text/plain": [
              "<Figure size 1440x2160 with 1 Axes>"
            ]
          },
          "metadata": {
            "needs_background": "light"
          }
        }
      ]
    },
    {
      "cell_type": "markdown",
      "metadata": {
        "id": "uzX-b6pFnhdo"
      },
      "source": [
        "## Распределение конструкций по синтаксическим типам"
      ]
    },
    {
      "cell_type": "markdown",
      "metadata": {
        "id": "jsrQh1i9t_FX"
      },
      "source": [
        "10 самых частотных синтаксических типов конструкции"
      ]
    },
    {
      "cell_type": "code",
      "metadata": {
        "colab": {
          "base_uri": "https://localhost:8080/",
          "height": 609
        },
        "id": "sp6c_0KNd5Sa",
        "outputId": "d030d329-e02d-43ad-981b-c8f606e3d008"
      },
      "source": [
        "df['Synt. type of construction'].value_counts()[:10].plot(kind='barh', figsize=(10, 10))"
      ],
      "execution_count": 90,
      "outputs": [
        {
          "output_type": "execute_result",
          "data": {
            "text/plain": [
              "<matplotlib.axes._subplots.AxesSubplot at 0x7fa329360890>"
            ]
          },
          "metadata": {},
          "execution_count": 90
        },
        {
          "output_type": "display_data",
          "data": {
            "image/png": "[encoded data removed]",
            "text/plain": [
              "<Figure size 720x720 with 1 Axes>"
            ]
          },
          "metadata": {
            "needs_background": "light"
          }
        }
      ]
    },
    {
      "cell_type": "markdown",
      "metadata": {
        "id": "rmLKqhY0uFfb"
      },
      "source": [
        "10 самых частотных типов якоря"
      ]
    },
    {
      "cell_type": "code",
      "metadata": {
        "colab": {
          "base_uri": "https://localhost:8080/",
          "height": 609
        },
        "id": "TQPdE-MruFv2",
        "outputId": "c8015efd-5f5a-40b9-f558-da0303c3124b"
      },
      "source": [
        "df['Synt. func. of anchor'].value_counts()[:10].plot(kind='barh', figsize=(10, 10))"
      ],
      "execution_count": 92,
      "outputs": [
        {
          "output_type": "execute_result",
          "data": {
            "text/plain": [
              "<matplotlib.axes._subplots.AxesSubplot at 0x7fa3291f2650>"
            ]
          },
          "metadata": {},
          "execution_count": 92
        },
        {
          "output_type": "display_data",
          "data": {
            "image/png": "[encoded data removed]",
            "text/plain": [
              "<Figure size 720x720 with 1 Axes>"
            ]
          },
          "metadata": {
            "needs_background": "light"
          }
        }
      ]
    },
    {
      "cell_type": "markdown",
      "metadata": {
        "id": "FG3_LdyLnlx1"
      },
      "source": [
        "## Топ частотных якорей"
      ]
    },
    {
      "cell_type": "code",
      "metadata": {
        "id": "5lb6ihYIgh5L"
      },
      "source": [
        "constr = df.Name.tolist()\n",
        "constr = ' '.join([re.sub(r'[\\(\\)~\\-/1234567890\\.A-Za-z]', ' ', c) for c in constr])"
      ],
      "execution_count": 93,
      "outputs": []
    },
    {
      "cell_type": "code",
      "metadata": {
        "id": "YzF-603oiVnD"
      },
      "source": [
        "nlp = spacy.load('ru_core_news_md')"
      ],
      "execution_count": 94,
      "outputs": []
    },
    {
      "cell_type": "code",
      "metadata": {
        "id": "-J_NxZyxjTbm"
      },
      "source": [
        "def preprocess(text, model):\n",
        "    \"\"\"\n",
        "    Function takes text as an input\n",
        "    and transforms it into dictionary \n",
        "    with POSes as keys and words as values\n",
        "    \"\"\"\n",
        "\n",
        "    docum = model(text)\n",
        "    p = [(w.lemma_, w.pos_ )for w in docum]\n",
        "    words = [i[0] for i in p]\n",
        "    poses = [i[1] for i in p]\n",
        "    pos_dict = {p: [] for p in list(set(poses))}\n",
        "    for word, pos in zip(words, poses):\n",
        "        pos_dict[pos].append(word)\n",
        "    return pos_dict"
      ],
      "execution_count": 95,
      "outputs": []
    },
    {
      "cell_type": "code",
      "metadata": {
        "id": "-b8-fvuClG59"
      },
      "source": [
        "pos_dict = preprocess(constr, nlp)"
      ],
      "execution_count": 96,
      "outputs": []
    },
    {
      "cell_type": "code",
      "metadata": {
        "colab": {
          "base_uri": "https://localhost:8080/"
        },
        "id": "K-mhhmQZlOwV",
        "outputId": "58c8d10d-32ee-4f37-dede-0e0d0bdc228a"
      },
      "source": [
        "pos_dict.keys()"
      ],
      "execution_count": 97,
      "outputs": [
        {
          "output_type": "execute_result",
          "data": {
            "text/plain": [
              "dict_keys(['PROPN', 'CCONJ', 'PUNCT', 'ADP', 'AUX', 'ADJ', 'VERB', 'NUM', 'X', 'PRON', 'SPACE', 'SCONJ', 'ADV', 'DET', 'NOUN', 'PART'])"
            ]
          },
          "metadata": {},
          "execution_count": 97
        }
      ]
    },
    {
      "cell_type": "markdown",
      "metadata": {
        "id": "JsU8_UTknp6W"
      },
      "source": [
        "### Топ-10 глаголов"
      ]
    },
    {
      "cell_type": "code",
      "metadata": {
        "colab": {
          "base_uri": "https://localhost:8080/"
        },
        "id": "0YaSAxXSlfTu",
        "outputId": "589f70c1-74a1-4a44-8c70-8df0d1b799af"
      },
      "source": [
        "Counter(pos_dict['VERB']).most_common(10)"
      ],
      "execution_count": 98,
      "outputs": [
        {
          "output_type": "execute_result",
          "data": {
            "text/plain": [
              "[('знать', 24),\n",
              " ('говорить', 22),\n",
              " ('хотеть', 18),\n",
              " ('быть', 16),\n",
              " ('дать', 16),\n",
              " ('нет', 16),\n",
              " ('сказать', 15),\n",
              " ('мочь', 15),\n",
              " ('иметь', 12),\n",
              " ('делать', 8)]"
            ]
          },
          "metadata": {},
          "execution_count": 98
        }
      ]
    },
    {
      "cell_type": "markdown",
      "metadata": {
        "id": "fwluTqrun1OS"
      },
      "source": [
        "### Топ-10 существительных"
      ]
    },
    {
      "cell_type": "code",
      "metadata": {
        "colab": {
          "base_uri": "https://localhost:8080/"
        },
        "id": "RBhKrilrmmvi",
        "outputId": "eda11ea4-259d-4f8f-c0f6-7bbf8fb4d8ae"
      },
      "source": [
        "Counter(pos_dict['NOUN']).most_common(10)"
      ],
      "execution_count": 99,
      "outputs": [
        {
          "output_type": "execute_result",
          "data": {
            "text/plain": [
              "[('время', 26),\n",
              " ('дело', 25),\n",
              " ('раз', 25),\n",
              " ('чёрт', 18),\n",
              " ('пора', 16),\n",
              " ('день', 16),\n",
              " ('случай', 15),\n",
              " ('вид', 15),\n",
              " ('рука', 13),\n",
              " ('слово', 12)]"
            ]
          },
          "metadata": {},
          "execution_count": 99
        }
      ]
    },
    {
      "cell_type": "markdown",
      "metadata": {
        "id": "uDz4X76yn_Hu"
      },
      "source": [
        "### Топ-10 прилагательных"
      ]
    },
    {
      "cell_type": "code",
      "metadata": {
        "colab": {
          "base_uri": "https://localhost:8080/"
        },
        "id": "Fcxkhgsen8lv",
        "outputId": "a691d480-f3f5-4c3a-ed26-919d848748ee"
      },
      "source": [
        "Counter(pos_dict['ADJ']).most_common(10)"
      ],
      "execution_count": 100,
      "outputs": [
        {
          "output_type": "execute_result",
          "data": {
            "text/plain": [
              "[('равный', 19),\n",
              " ('хороший', 14),\n",
              " ('самый', 9),\n",
              " ('сам', 8),\n",
              " ('полный', 7),\n",
              " ('нужный', 7),\n",
              " ('другой', 6),\n",
              " ('плохой', 5),\n",
              " ('последний', 4),\n",
              " ('целый', 4)]"
            ]
          },
          "metadata": {},
          "execution_count": 100
        }
      ]
    },
    {
      "cell_type": "markdown",
      "metadata": {
        "id": "dNBL_g56oLcv"
      },
      "source": [
        "### Топ-10 наречий"
      ]
    },
    {
      "cell_type": "code",
      "metadata": {
        "colab": {
          "base_uri": "https://localhost:8080/"
        },
        "id": "6uHlfkdkoJxO",
        "outputId": "b1300d5f-ae13-4cf1-8497-e6ba5dc34186"
      },
      "source": [
        "Counter(pos_dict['ADV']).most_common(10)"
      ],
      "execution_count": 101,
      "outputs": [
        {
          "output_type": "execute_result",
          "data": {
            "text/plain": [
              "[('так', 64),\n",
              " ('ещё', 38),\n",
              " ('как', 22),\n",
              " ('хоть', 14),\n",
              " ('тут', 13),\n",
              " ('можно', 13),\n",
              " ('там', 10),\n",
              " ('надо', 10),\n",
              " ('здесь', 9),\n",
              " ('куда', 8)]"
            ]
          },
          "metadata": {},
          "execution_count": 101
        }
      ]
    }
  ]
}