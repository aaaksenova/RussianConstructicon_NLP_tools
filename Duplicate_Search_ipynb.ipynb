{
  "nbformat": 4,
  "nbformat_minor": 0,
  "metadata": {
    "colab": {
      "name": "Dublicate Search.ipynb\"",
      "provenance": [],
      "collapsed_sections": [],
      "authorship_tag": "ABX9TyOS+Vo7rTx0jo8yQDwLLvRx",
      "include_colab_link": true
    },
    "kernelspec": {
      "name": "python3",
      "display_name": "Python 3"
    },
    "language_info": {
      "name": "python"
    }
  },
  "cells": [
    {
      "cell_type": "markdown",
      "metadata": {
        "id": "view-in-github",
        "colab_type": "text"
      },
      "source": [
        "<a href=\"https://colab.research.google.com/github/aaaksenova/RussianConstructicon_NLP_tools/blob/change/Dublicate_Search_ipynb%22.ipynb\" target=\"_parent\"><img src=\"https://colab.research.google.com/assets/colab-badge.svg\" alt=\"Open In Colab\"/></a>"
      ]
    },
    {
      "cell_type": "markdown",
      "metadata": {
        "id": "Qx27xYSdf0bf"
      },
      "source": [
        "# Поиск дубликатов конструкций"
      ]
    },
    {
      "cell_type": "markdown",
      "metadata": {
        "id": "6PwZ1TNnxpHu"
      },
      "source": [
        "С помощью этого кода можно проверять не дублируют ли новые конструкции то, что уже есть в конструктиконе\n",
        "\n",
        "by Анна Аксенова (aksanna_a@mail.ru)"
      ]
    },
    {
      "cell_type": "code",
      "metadata": {
        "colab": {
          "base_uri": "https://localhost:8080/"
        },
        "id": "g5FBSF8T9lH3",
        "outputId": "c467df2f-9bb1-4fe2-e299-14b3704e7f7c"
      },
      "source": [
        "! pip install conllu\n",
        "! pip install pymorphy2"
      ],
      "execution_count": 1,
      "outputs": [
        {
          "output_type": "stream",
          "name": "stdout",
          "text": [
            "Collecting conllu\n",
            "  Downloading conllu-4.4.1-py2.py3-none-any.whl (15 kB)\n",
            "Installing collected packages: conllu\n",
            "Successfully installed conllu-4.4.1\n",
            "Collecting pymorphy2\n",
            "  Downloading pymorphy2-0.9.1-py3-none-any.whl (55 kB)\n",
            "\u001b[K     |████████████████████████████████| 55 kB 3.8 MB/s \n",
            "\u001b[?25hRequirement already satisfied: docopt>=0.6 in /usr/local/lib/python3.7/dist-packages (from pymorphy2) (0.6.2)\n",
            "Collecting pymorphy2-dicts-ru<3.0,>=2.4\n",
            "  Downloading pymorphy2_dicts_ru-2.4.417127.4579844-py2.py3-none-any.whl (8.2 MB)\n",
            "\u001b[K     |████████████████████████████████| 8.2 MB 47.7 MB/s \n",
            "\u001b[?25hCollecting dawg-python>=0.7.1\n",
            "  Downloading DAWG_Python-0.7.2-py2.py3-none-any.whl (11 kB)\n",
            "Installing collected packages: pymorphy2-dicts-ru, dawg-python, pymorphy2\n",
            "Successfully installed dawg-python-0.7.2 pymorphy2-0.9.1 pymorphy2-dicts-ru-2.4.417127.4579844\n"
          ]
        }
      ]
    },
    {
      "cell_type": "code",
      "metadata": {
        "id": "w7rdggHmga0u",
        "colab": {
          "base_uri": "https://localhost:8080/"
        },
        "outputId": "57577a77-7546-4aa8-c045-5630a8fe3e20"
      },
      "source": [
        "import re\n",
        "import pandas as pd\n",
        "from pprint import pprint\n",
        "from conllu import parse\n",
        "from conllu import parse_incr, parse_tree_incr\n",
        "import sqlite3\n",
        "import numpy as np\n",
        "import pymorphy2\n",
        "import nltk\n",
        "nltk.download('punkt')\n",
        "\n",
        "morph = pymorphy2.MorphAnalyzer()"
      ],
      "execution_count": 2,
      "outputs": [
        {
          "output_type": "stream",
          "name": "stdout",
          "text": [
            "[nltk_data] Downloading package punkt to /root/nltk_data...\n",
            "[nltk_data]   Unzipping tokenizers/punkt.zip.\n"
          ]
        }
      ]
    },
    {
      "cell_type": "code",
      "metadata": {
        "id": "iM_IqCqefy4S"
      },
      "source": [
        "def get_all_types(construction):\n",
        "  \n",
        "    \"\"\"\n",
        "    Эта функция получает на вход формулу конструкции \n",
        "    и выдает все вариативные формы конструкции\n",
        "    \"\"\"\n",
        "\n",
        "    constructions = []\n",
        "    constructions.append([construction])\n",
        "    new = []\n",
        "    if '(' in construction:\n",
        "        constructions.append([re.sub(r'\\(.+?\\)', '', construction, count=1), re.sub(r'\\((.+?)\\)', r'\\1', construction, count=1)])\n",
        "        if '(' in construction:\n",
        "            new = []\n",
        "            for c in constructions[-1]:\n",
        "                new.extend([re.sub(r'\\(.+?\\)', '', c, count=1), re.sub(r'\\((.+?)\\)', r'\\1', c, count=1)])\n",
        "            if new:\n",
        "                constructions.append(new)\n",
        "    if '/' in construction:\n",
        "        new = []\n",
        "        for c in constructions[-1]:\n",
        "            flag = []\n",
        "            optional = re.findall(r'([А-Яа-яЁёA-Za-z\\-]+)/([А-Яа-яЁёA-Za-z-]+)/*([А-Яа-яЁёA-Za-z-]+)*', c)\n",
        "            for word in optional[0]:\n",
        "                if word:\n",
        "                   flag.append(re.sub(r'([А-Яа-яЁёA-Za-z\\-]+)/([А-Яа-яЁёA-Za-z-]+)/*([А-Яа-яЁёA-Za-z-]+)*', word, c, count=1))\n",
        "            if len(optional) > 1:\n",
        "                new_1 = []\n",
        "                for word in optional[1]:\n",
        "                    if word:\n",
        "                        new_1.extend([re.sub(r'([А-Яа-яЁёA-Za-z\\-]+)/([А-Яа-яЁёA-Za-z-]+)/*([А-Яа-яЁёA-Za-z-]+)*', word, i, count=1) for i in flag])\n",
        "                new.extend(new_1)\n",
        "            else:\n",
        "                new.extend(flag)\n",
        "    if not new:\n",
        "        new = [construction]\n",
        "\n",
        "    constructions.append(new)\n",
        "    final_list = list(set([i.replace('XP', '').replace('Cop', '').replace('Crd', '').replace('Ord', '').replace('Cl', '') \n",
        "                          for i in constructions[-1]]))\n",
        "    return final_list"
      ],
      "execution_count": 3,
      "outputs": []
    },
    {
      "cell_type": "code",
      "metadata": {
        "id": "e1nqbOAZSltO",
        "colab": {
          "base_uri": "https://localhost:8080/"
        },
        "outputId": "56b90be3-e8cd-425b-e3bb-78b32f76bc03"
      },
      "source": [
        "get_all_types('NP-Nom (как) давай/пора/уже VP-Inf/Cl (вот)')"
      ],
      "execution_count": 5,
      "outputs": [
        {
          "output_type": "execute_result",
          "data": {
            "text/plain": [
              "['NP-Nom  давай VP-Inf вот',\n",
              " 'NP-Nom как пора VP-Inf ',\n",
              " 'NP-Nom  пора VP-Inf вот',\n",
              " 'NP-Nom  давай VP-Inf ',\n",
              " 'NP-Nom  давай  ',\n",
              " 'NP-Nom  пора  вот',\n",
              " 'NP-Nom как уже VP-Inf ',\n",
              " 'NP-Nom как уже VP-Inf вот',\n",
              " 'NP-Nom как уже  вот',\n",
              " 'NP-Nom  уже  вот',\n",
              " 'NP-Nom как давай  вот',\n",
              " 'NP-Nom  уже VP-Inf ',\n",
              " 'NP-Nom как давай VP-Inf ',\n",
              " 'NP-Nom  уже  ',\n",
              " 'NP-Nom  уже VP-Inf вот',\n",
              " 'NP-Nom  давай  вот',\n",
              " 'NP-Nom как пора  вот',\n",
              " 'NP-Nom как давай VP-Inf вот',\n",
              " 'NP-Nom как пора  ',\n",
              " 'NP-Nom как уже  ',\n",
              " 'NP-Nom как пора VP-Inf вот',\n",
              " 'NP-Nom как давай  ',\n",
              " 'NP-Nom  пора  ',\n",
              " 'NP-Nom  пора VP-Inf ']"
            ]
          },
          "metadata": {},
          "execution_count": 5
        }
      ]
    },
    {
      "cell_type": "markdown",
      "metadata": {
        "id": "GyPCoPWBECbd"
      },
      "source": [
        "## Поиск дубликатов"
      ]
    },
    {
      "cell_type": "code",
      "metadata": {
        "colab": {
          "base_uri": "https://localhost:8080/",
          "height": 419
        },
        "id": "Yaht6YXsZhAn",
        "outputId": "4d286a2d-f532-45b2-83d9-8490dd89278f"
      },
      "source": [
        "df = pd.read_csv('Название файла Эксель', sep=';')  \n",
        "# Файл должен иметь следующий формат: Столбец Exist с конструкциями, которые есть в конструктиконе \n",
        "# и столбец Potential с потенциальными новыми конструкциями\n",
        "df"
      ],
      "execution_count": null,
      "outputs": [
        {
          "output_type": "execute_result",
          "data": {
            "text/html": [
              "<div>\n",
              "<style scoped>\n",
              "    .dataframe tbody tr th:only-of-type {\n",
              "        vertical-align: middle;\n",
              "    }\n",
              "\n",
              "    .dataframe tbody tr th {\n",
              "        vertical-align: top;\n",
              "    }\n",
              "\n",
              "    .dataframe thead th {\n",
              "        text-align: right;\n",
              "    }\n",
              "</style>\n",
              "<table border=\"1\" class=\"dataframe\">\n",
              "  <thead>\n",
              "    <tr style=\"text-align: right;\">\n",
              "      <th></th>\n",
              "      <th>Exist</th>\n",
              "      <th>Potential</th>\n",
              "    </tr>\n",
              "  </thead>\n",
              "  <tbody>\n",
              "    <tr>\n",
              "      <th>0</th>\n",
              "      <td>(а) как же NP-Nom?</td>\n",
              "      <td>абы где 3</td>\n",
              "    </tr>\n",
              "    <tr>\n",
              "      <th>1</th>\n",
              "      <td>(а) при чём здесь/тут Cop NP-Nom?</td>\n",
              "      <td>абы как 50</td>\n",
              "    </tr>\n",
              "    <tr>\n",
              "      <th>2</th>\n",
              "      <td>(а) Noun-Nom/кто (же) (PronPers-3.Acc) знает, Cl</td>\n",
              "      <td>абы куда 1</td>\n",
              "    </tr>\n",
              "    <tr>\n",
              "      <th>3</th>\n",
              "      <td>(а/так) что насчёт XP?</td>\n",
              "      <td>баш на баш 16</td>\n",
              "    </tr>\n",
              "    <tr>\n",
              "      <th>4</th>\n",
              "      <td>NP-Nom Cop похожий-Short на NP-Acc (NP-Ins/по ...</td>\n",
              "      <td>без боя 316</td>\n",
              "    </tr>\n",
              "    <tr>\n",
              "      <th>...</th>\n",
              "      <td>...</td>\n",
              "      <td>...</td>\n",
              "    </tr>\n",
              "    <tr>\n",
              "      <th>4106</th>\n",
              "      <td>NaN</td>\n",
              "      <td>V не щадя себя</td>\n",
              "    </tr>\n",
              "    <tr>\n",
              "      <th>4107</th>\n",
              "      <td>NaN</td>\n",
              "      <td>V сжав зубы</td>\n",
              "    </tr>\n",
              "    <tr>\n",
              "      <th>4108</th>\n",
              "      <td>NaN</td>\n",
              "      <td>V, и ну бегать!</td>\n",
              "    </tr>\n",
              "    <tr>\n",
              "      <th>4109</th>\n",
              "      <td>NaN</td>\n",
              "      <td>V, не сказав (Х-у) ни слова</td>\n",
              "    </tr>\n",
              "    <tr>\n",
              "      <th>4110</th>\n",
              "      <td>NaN</td>\n",
              "      <td>X не подобает Y-у</td>\n",
              "    </tr>\n",
              "  </tbody>\n",
              "</table>\n",
              "<p>4111 rows × 2 columns</p>\n",
              "</div>"
            ],
            "text/plain": [
              "                                                  Exist                    Potential\n",
              "0                                    (а) как же NP-Nom?                    абы где 3\n",
              "1                     (а) при чём здесь/тут Cop NP-Nom?                   абы как 50\n",
              "2      (а) Noun-Nom/кто (же) (PronPers-3.Acc) знает, Cl                   абы куда 1\n",
              "3                                (а/так) что насчёт XP?                баш на баш 16\n",
              "4     NP-Nom Cop похожий-Short на NP-Acc (NP-Ins/по ...                  без боя 316\n",
              "...                                                 ...                          ...\n",
              "4106                                                NaN               V не щадя себя\n",
              "4107                                                NaN                  V сжав зубы\n",
              "4108                                                NaN              V, и ну бегать!\n",
              "4109                                                NaN  V, не сказав (Х-у) ни слова\n",
              "4110                                                NaN            X не подобает Y-у\n",
              "\n",
              "[4111 rows x 2 columns]"
            ]
          },
          "metadata": {},
          "execution_count": 3
        }
      ]
    },
    {
      "cell_type": "code",
      "metadata": {
        "id": "IWMpRo2WZhD3"
      },
      "source": [
        "exist = []\n",
        "for i in df.Exist.to_list()[:2261]:\n",
        "    try:\n",
        "        exist.extend(get_all_types(i))\n",
        "    except:\n",
        "        pass\n",
        "clean = []\n",
        "for i in exist:\n",
        "    if isinstance(i, str):\n",
        "       clean.append(re.sub(r'\\s+', ' ', re.sub(r'[A-Za-z\\-\\(\\)/?!.–~,1234567890]', '', i).strip()))\n",
        "    else:\n",
        "        for j in i:\n",
        "            clean.append(re.sub(r'\\s+', ' ', re.sub(r'[A-Za-z\\-\\(\\)/?!.–~,1234567890]', '', j).strip()))"
      ],
      "execution_count": null,
      "outputs": []
    },
    {
      "cell_type": "code",
      "metadata": {
        "id": "EvhJI5JzhnA6"
      },
      "source": [
        "p = df.Potential.to_list()\n",
        "potential = []\n",
        "for i in p:\n",
        "    if isinstance(i, str):\n",
        "        potential.append(re.sub(r'\\s+', ' ', re.sub(r'[A-Za-z\\-\\(\\)/?!.–~,1234567890]', '', i).strip()))"
      ],
      "execution_count": null,
      "outputs": []
    },
    {
      "cell_type": "code",
      "metadata": {
        "id": "_9Hg4bVHfXVh"
      },
      "source": [
        "exist_dub = []\n",
        "potential_dub = []\n",
        "non_dublicate = []\n",
        "\n",
        "for p in potential:\n",
        "    for e in clean:\n",
        "        if len(p) > 2:\n",
        "            if p in e:\n",
        "                potential_dub.append(p)\n",
        "                exist_dub.append(e)\n",
        "            else:\n",
        "                non_dublicate.append(p)"
      ],
      "execution_count": null,
      "outputs": []
    },
    {
      "cell_type": "code",
      "metadata": {
        "id": "iZolv7JsAE2X"
      },
      "source": [
        "df = pd.DataFrame({'existing_construction': exist_dub, 'potential_dublicate': potential_dub})"
      ],
      "execution_count": null,
      "outputs": []
    },
    {
      "cell_type": "code",
      "metadata": {
        "id": "2emyDAgTAuSR"
      },
      "source": [
        "df.drop_duplicates(inplace=True)"
      ],
      "execution_count": null,
      "outputs": []
    },
    {
      "cell_type": "code",
      "metadata": {
        "colab": {
          "base_uri": "https://localhost:8080/",
          "height": 419
        },
        "id": "dLxgYFvAB9jE",
        "outputId": "1dde7522-2767-4dcb-de4d-05d540f1d43f"
      },
      "source": [
        "df = pd.DataFrame({'non_dublicate': non_dublicate})"
      ],
      "execution_count": null,
      "outputs": [
        {
          "output_type": "execute_result",
          "data": {
            "text/html": [
              "<div>\n",
              "<style scoped>\n",
              "    .dataframe tbody tr th:only-of-type {\n",
              "        vertical-align: middle;\n",
              "    }\n",
              "\n",
              "    .dataframe tbody tr th {\n",
              "        vertical-align: top;\n",
              "    }\n",
              "\n",
              "    .dataframe thead th {\n",
              "        text-align: right;\n",
              "    }\n",
              "</style>\n",
              "<table border=\"1\" class=\"dataframe\">\n",
              "  <thead>\n",
              "    <tr style=\"text-align: right;\">\n",
              "      <th></th>\n",
              "      <th>non_dublicate</th>\n",
              "    </tr>\n",
              "  </thead>\n",
              "  <tbody>\n",
              "    <tr>\n",
              "      <th>0</th>\n",
              "      <td>абы где</td>\n",
              "    </tr>\n",
              "    <tr>\n",
              "      <th>1</th>\n",
              "      <td>абы где</td>\n",
              "    </tr>\n",
              "    <tr>\n",
              "      <th>2</th>\n",
              "      <td>абы где</td>\n",
              "    </tr>\n",
              "    <tr>\n",
              "      <th>3</th>\n",
              "      <td>абы где</td>\n",
              "    </tr>\n",
              "    <tr>\n",
              "      <th>4</th>\n",
              "      <td>абы где</td>\n",
              "    </tr>\n",
              "    <tr>\n",
              "      <th>...</th>\n",
              "      <td>...</td>\n",
              "    </tr>\n",
              "    <tr>\n",
              "      <th>12539000</th>\n",
              "      <td>не подобает у</td>\n",
              "    </tr>\n",
              "    <tr>\n",
              "      <th>12539001</th>\n",
              "      <td>не подобает у</td>\n",
              "    </tr>\n",
              "    <tr>\n",
              "      <th>12539002</th>\n",
              "      <td>не подобает у</td>\n",
              "    </tr>\n",
              "    <tr>\n",
              "      <th>12539003</th>\n",
              "      <td>не подобает у</td>\n",
              "    </tr>\n",
              "    <tr>\n",
              "      <th>12539004</th>\n",
              "      <td>не подобает у</td>\n",
              "    </tr>\n",
              "  </tbody>\n",
              "</table>\n",
              "<p>12539005 rows × 1 columns</p>\n",
              "</div>"
            ],
            "text/plain": [
              "          non_dublicate\n",
              "0               абы где\n",
              "1               абы где\n",
              "2               абы где\n",
              "3               абы где\n",
              "4               абы где\n",
              "...                 ...\n",
              "12539000  не подобает у\n",
              "12539001  не подобает у\n",
              "12539002  не подобает у\n",
              "12539003  не подобает у\n",
              "12539004  не подобает у\n",
              "\n",
              "[12539005 rows x 1 columns]"
            ]
          },
          "metadata": {},
          "execution_count": 15
        }
      ]
    },
    {
      "cell_type": "code",
      "metadata": {
        "id": "jhHgxd1NC2ha"
      },
      "source": [
        "df.drop_duplicates(inplace=True)"
      ],
      "execution_count": null,
      "outputs": []
    },
    {
      "cell_type": "code",
      "metadata": {
        "id": "HXoZ4BaqC_Ns"
      },
      "source": [
        "df.to_csv('non_dublicate.csv')"
      ],
      "execution_count": null,
      "outputs": []
    },
    {
      "cell_type": "code",
      "metadata": {
        "id": "TYNJzTvXA0My"
      },
      "source": [
        "df.to_csv('potential_dublicates.csv', sep=';')"
      ],
      "execution_count": null,
      "outputs": []
    }
  ]
}
